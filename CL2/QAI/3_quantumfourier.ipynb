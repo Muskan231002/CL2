{
  "cells": [
    {
      "cell_type": "code",
      "execution_count": 5,
      "metadata": {
        "id": "-o_noaOqGpXr"
      },
      "outputs": [],
      "source": [
        "# Implementing a 5 qubit Quantum Fourier Transform"
      ]
    },
    {
      "cell_type": "code",
      "source": [
        "pip install qiskit"
      ],
      "metadata": {
        "colab": {
          "base_uri": "https://localhost:8080/"
        },
        "id": "0e8S25M4Gv8T",
        "outputId": "79b9838e-2afa-476d-a0ba-d549ae3e63d3"
      },
      "execution_count": 6,
      "outputs": [
        {
          "output_type": "stream",
          "name": "stdout",
          "text": [
            "Requirement already satisfied: qiskit in /usr/local/lib/python3.10/dist-packages (1.2.4)\n",
            "Requirement already satisfied: rustworkx>=0.15.0 in /usr/local/lib/python3.10/dist-packages (from qiskit) (0.15.1)\n",
            "Requirement already satisfied: numpy<3,>=1.17 in /usr/local/lib/python3.10/dist-packages (from qiskit) (1.26.4)\n",
            "Requirement already satisfied: scipy>=1.5 in /usr/local/lib/python3.10/dist-packages (from qiskit) (1.13.1)\n",
            "Requirement already satisfied: sympy>=1.3 in /usr/local/lib/python3.10/dist-packages (from qiskit) (1.13.1)\n",
            "Requirement already satisfied: dill>=0.3 in /usr/local/lib/python3.10/dist-packages (from qiskit) (0.3.9)\n",
            "Requirement already satisfied: python-dateutil>=2.8.0 in /usr/local/lib/python3.10/dist-packages (from qiskit) (2.8.2)\n",
            "Requirement already satisfied: stevedore>=3.0.0 in /usr/local/lib/python3.10/dist-packages (from qiskit) (5.3.0)\n",
            "Requirement already satisfied: typing-extensions in /usr/local/lib/python3.10/dist-packages (from qiskit) (4.12.2)\n",
            "Requirement already satisfied: symengine<0.14,>=0.11 in /usr/local/lib/python3.10/dist-packages (from qiskit) (0.13.0)\n",
            "Requirement already satisfied: six>=1.5 in /usr/local/lib/python3.10/dist-packages (from python-dateutil>=2.8.0->qiskit) (1.16.0)\n",
            "Requirement already satisfied: pbr>=2.0.0 in /usr/local/lib/python3.10/dist-packages (from stevedore>=3.0.0->qiskit) (6.1.0)\n",
            "Requirement already satisfied: mpmath<1.4,>=1.1.0 in /usr/local/lib/python3.10/dist-packages (from sympy>=1.3->qiskit) (1.3.0)\n"
          ]
        }
      ]
    },
    {
      "cell_type": "code",
      "source": [
        "pip install qiskit_aer"
      ],
      "metadata": {
        "colab": {
          "base_uri": "https://localhost:8080/"
        },
        "id": "HA0RCiemGvnv",
        "outputId": "4354ba4b-91e8-492d-8da7-0f84b7495889"
      },
      "execution_count": 7,
      "outputs": [
        {
          "output_type": "stream",
          "name": "stdout",
          "text": [
            "Requirement already satisfied: qiskit_aer in /usr/local/lib/python3.10/dist-packages (0.15.1)\n",
            "Requirement already satisfied: qiskit>=1.1.0 in /usr/local/lib/python3.10/dist-packages (from qiskit_aer) (1.2.4)\n",
            "Requirement already satisfied: numpy>=1.16.3 in /usr/local/lib/python3.10/dist-packages (from qiskit_aer) (1.26.4)\n",
            "Requirement already satisfied: scipy>=1.0 in /usr/local/lib/python3.10/dist-packages (from qiskit_aer) (1.13.1)\n",
            "Requirement already satisfied: psutil>=5 in /usr/local/lib/python3.10/dist-packages (from qiskit_aer) (5.9.5)\n",
            "Requirement already satisfied: rustworkx>=0.15.0 in /usr/local/lib/python3.10/dist-packages (from qiskit>=1.1.0->qiskit_aer) (0.15.1)\n",
            "Requirement already satisfied: sympy>=1.3 in /usr/local/lib/python3.10/dist-packages (from qiskit>=1.1.0->qiskit_aer) (1.13.1)\n",
            "Requirement already satisfied: dill>=0.3 in /usr/local/lib/python3.10/dist-packages (from qiskit>=1.1.0->qiskit_aer) (0.3.9)\n",
            "Requirement already satisfied: python-dateutil>=2.8.0 in /usr/local/lib/python3.10/dist-packages (from qiskit>=1.1.0->qiskit_aer) (2.8.2)\n",
            "Requirement already satisfied: stevedore>=3.0.0 in /usr/local/lib/python3.10/dist-packages (from qiskit>=1.1.0->qiskit_aer) (5.3.0)\n",
            "Requirement already satisfied: typing-extensions in /usr/local/lib/python3.10/dist-packages (from qiskit>=1.1.0->qiskit_aer) (4.12.2)\n",
            "Requirement already satisfied: symengine<0.14,>=0.11 in /usr/local/lib/python3.10/dist-packages (from qiskit>=1.1.0->qiskit_aer) (0.13.0)\n",
            "Requirement already satisfied: six>=1.5 in /usr/local/lib/python3.10/dist-packages (from python-dateutil>=2.8.0->qiskit>=1.1.0->qiskit_aer) (1.16.0)\n",
            "Requirement already satisfied: pbr>=2.0.0 in /usr/local/lib/python3.10/dist-packages (from stevedore>=3.0.0->qiskit>=1.1.0->qiskit_aer) (6.1.0)\n",
            "Requirement already satisfied: mpmath<1.4,>=1.1.0 in /usr/local/lib/python3.10/dist-packages (from sympy>=1.3->qiskit>=1.1.0->qiskit_aer) (1.3.0)\n"
          ]
        }
      ]
    },
    {
      "cell_type": "code",
      "execution_count": 8,
      "metadata": {
        "id": "SjRrMO8BGpXt"
      },
      "outputs": [],
      "source": [
        "import numpy as np\n",
        "from qiskit import QuantumRegister, ClassicalRegister\n",
        "from qiskit import QuantumCircuit,transpile\n",
        "from qiskit_aer import AerSimulator"
      ]
    },
    {
      "cell_type": "code",
      "execution_count": 9,
      "metadata": {
        "id": "guIy3VhTGpXu"
      },
      "outputs": [],
      "source": [
        "from qiskit.circuit.library import QFT"
      ]
    },
    {
      "cell_type": "code",
      "execution_count": 10,
      "metadata": {
        "id": "5scr5pBdGpXu"
      },
      "outputs": [],
      "source": [
        "# Set up the AerSimulator backend\n",
        "simulator = AerSimulator()"
      ]
    },
    {
      "cell_type": "code",
      "execution_count": 11,
      "metadata": {
        "id": "YN5McSOZGpXv"
      },
      "outputs": [],
      "source": [
        "q = QuantumRegister(5,'q')\n",
        "c = ClassicalRegister(5,'c')\n",
        "circuit = QuantumCircuit(q,c)"
      ]
    },
    {
      "cell_type": "code",
      "execution_count": 12,
      "metadata": {
        "id": "fXeIMCnbGpXv"
      },
      "outputs": [],
      "source": [
        "circuit = QuantumCircuit(q, c)"
      ]
    },
    {
      "cell_type": "code",
      "execution_count": 13,
      "metadata": {
        "colab": {
          "base_uri": "https://localhost:8080/"
        },
        "id": "MdF94B_PGpXv",
        "outputId": "b2134cd4-b7a8-4d45-f9f5-669567e80a72"
      },
      "outputs": [
        {
          "output_type": "execute_result",
          "data": {
            "text/plain": [
              "<qiskit.circuit.instructionset.InstructionSet at 0x7f6bd44f2200>"
            ]
          },
          "metadata": {},
          "execution_count": 13
        }
      ],
      "source": [
        "circuit.h(q)"
      ]
    },
    {
      "cell_type": "code",
      "execution_count": 14,
      "metadata": {
        "colab": {
          "base_uri": "https://localhost:8080/"
        },
        "id": "da6-qQPDGpXw",
        "outputId": "2575e044-e65c-40d5-bd21-1a964fb3e97a"
      },
      "outputs": [
        {
          "output_type": "execute_result",
          "data": {
            "text/plain": [
              "<qiskit.circuit.instructionset.InstructionSet at 0x7f6bd44f2920>"
            ]
          },
          "metadata": {},
          "execution_count": 14
        }
      ],
      "source": [
        "# Apply X gates to specific qubits (as per your original code)\n",
        "circuit.x(q[4])\n",
        "circuit.x(q[2])\n",
        "circuit.x(q[0])"
      ]
    },
    {
      "cell_type": "code",
      "execution_count": 15,
      "metadata": {
        "colab": {
          "base_uri": "https://localhost:8080/"
        },
        "id": "cpat3PqgGpXx",
        "outputId": "18ac0a0f-a789-4007-905b-5f1a8a98f4f2"
      },
      "outputs": [
        {
          "output_type": "execute_result",
          "data": {
            "text/plain": [
              "<qiskit.circuit.instructionset.InstructionSet at 0x7f6bd44f2bc0>"
            ]
          },
          "metadata": {},
          "execution_count": 15
        }
      ],
      "source": [
        "# Apply the Quantum Fourier Transform (QFT)\n",
        "qft_circuit = QFT(num_qubits=5, approximation_degree=0, do_swaps=True, inverse=False, insert_barriers=False, name=\"qft\")\n",
        "circuit.append(qft_circuit, q)"
      ]
    },
    {
      "cell_type": "code",
      "execution_count": 16,
      "metadata": {
        "colab": {
          "base_uri": "https://localhost:8080/",
          "height": 217
        },
        "id": "OxGDwpNfGpXx",
        "outputId": "ff5940fa-8912-451f-eb36-8e7dde1ccb0a"
      },
      "outputs": [
        {
          "output_type": "execute_result",
          "data": {
            "text/plain": [
              "     ┌───┐┌───┐┌──────┐┌──────┐┌─┐            \n",
              "q_0: ┤ H ├┤ X ├┤0     ├┤0     ├┤M├────────────\n",
              "     ├───┤└───┘│      ││      │└╥┘┌─┐         \n",
              "q_1: ┤ H ├─────┤1     ├┤1     ├─╫─┤M├─────────\n",
              "     ├───┤┌───┐│      ││      │ ║ └╥┘┌─┐      \n",
              "q_2: ┤ H ├┤ X ├┤2 qft ├┤2 qft ├─╫──╫─┤M├──────\n",
              "     ├───┤└───┘│      ││      │ ║  ║ └╥┘┌─┐   \n",
              "q_3: ┤ H ├─────┤3     ├┤3     ├─╫──╫──╫─┤M├───\n",
              "     ├───┤┌───┐│      ││      │ ║  ║  ║ └╥┘┌─┐\n",
              "q_4: ┤ H ├┤ X ├┤4     ├┤4     ├─╫──╫──╫──╫─┤M├\n",
              "     └───┘└───┘└──────┘└──────┘ ║  ║  ║  ║ └╥┘\n",
              "c: 5/═══════════════════════════╩══╩══╩══╩══╩═\n",
              "                                0  1  2  3  4 "
            ],
            "text/html": [
              "<pre style=\"word-wrap: normal;white-space: pre;background: #fff0;line-height: 1.1;font-family: &quot;Courier New&quot;,Courier,monospace\">     ┌───┐┌───┐┌──────┐┌──────┐┌─┐            \n",
              "q_0: ┤ H ├┤ X ├┤0     ├┤0     ├┤M├────────────\n",
              "     ├───┤└───┘│      ││      │└╥┘┌─┐         \n",
              "q_1: ┤ H ├─────┤1     ├┤1     ├─╫─┤M├─────────\n",
              "     ├───┤┌───┐│      ││      │ ║ └╥┘┌─┐      \n",
              "q_2: ┤ H ├┤ X ├┤2 qft ├┤2 qft ├─╫──╫─┤M├──────\n",
              "     ├───┤└───┘│      ││      │ ║  ║ └╥┘┌─┐   \n",
              "q_3: ┤ H ├─────┤3     ├┤3     ├─╫──╫──╫─┤M├───\n",
              "     ├───┤┌───┐│      ││      │ ║  ║  ║ └╥┘┌─┐\n",
              "q_4: ┤ H ├┤ X ├┤4     ├┤4     ├─╫──╫──╫──╫─┤M├\n",
              "     └───┘└───┘└──────┘└──────┘ ║  ║  ║  ║ └╥┘\n",
              "c: 5/═══════════════════════════╩══╩══╩══╩══╩═\n",
              "                                0  1  2  3  4 </pre>"
            ]
          },
          "metadata": {},
          "execution_count": 16
        }
      ],
      "source": [
        "circuit = circuit.compose(qft_circuit)\n",
        "circuit.measure(q,c) # Measure the qubits and store the result in classical register\n",
        "circuit.draw()"
      ]
    },
    {
      "cell_type": "code",
      "execution_count": 17,
      "metadata": {
        "id": "O8BFjhLiGpXy"
      },
      "outputs": [],
      "source": [
        "transpiled_circuit = transpile(circuit, simulator)"
      ]
    },
    {
      "cell_type": "code",
      "execution_count": 18,
      "metadata": {
        "id": "KlcmY_QoGpXy"
      },
      "outputs": [],
      "source": [
        "job = simulator.run(transpiled_circuit,shots=1000)"
      ]
    },
    {
      "cell_type": "code",
      "execution_count": 19,
      "metadata": {
        "colab": {
          "base_uri": "https://localhost:8080/"
        },
        "id": "aLiOOmHrGpXy",
        "outputId": "31fcf133-77fc-42b5-a05b-7b0e776cb2c4"
      },
      "outputs": [
        {
          "output_type": "stream",
          "name": "stdout",
          "text": [
            "Job is running...\n",
            "Final job status: JobStatus.RUNNING\n"
          ]
        }
      ],
      "source": [
        "print(\"Job is running...\")\n",
        "print(f\"Final job status: {job.status()}\")"
      ]
    },
    {
      "cell_type": "code",
      "execution_count": 20,
      "metadata": {
        "colab": {
          "base_uri": "https://localhost:8080/"
        },
        "id": "fIYQL9IoGpXy",
        "outputId": "78e54934-4dcf-4f49-ed47-93f84a7943c3"
      },
      "outputs": [
        {
          "output_type": "stream",
          "name": "stdout",
          "text": [
            "\n",
            " QFT Output\n",
            "-------------\n",
            "{'10000': 29, '11110': 34, '01011': 32, '10101': 24, '11100': 28, '10010': 34, '11101': 33, '10111': 37, '10100': 43, '10001': 37, '00101': 34, '11010': 32, '01001': 26, '10011': 33, '00001': 30, '00110': 36, '10110': 27, '01000': 28, '01100': 29, '00011': 29, '00111': 27, '11001': 33, '00000': 26, '01111': 25, '00100': 32, '11111': 33, '11011': 34, '11000': 22, '00010': 40, '01101': 36, '01010': 35, '01110': 22}\n"
          ]
        }
      ],
      "source": [
        "job_result = job.result()\n",
        "counts = job_result.get_counts()\n",
        "print(\"\\n QFT Output\")\n",
        "print(\"-------------\")\n",
        "print(counts)"
      ]
    },
    {
      "cell_type": "code",
      "execution_count": 20,
      "metadata": {
        "id": "T3KB-gRZGpXy"
      },
      "outputs": [],
      "source": []
    },
    {
      "cell_type": "code",
      "execution_count": 20,
      "metadata": {
        "id": "CcY8cCfrGpXy"
      },
      "outputs": [],
      "source": []
    }
  ],
  "metadata": {
    "kernelspec": {
      "display_name": "Python 3 (ipykernel)",
      "language": "python",
      "name": "python3"
    },
    "language_info": {
      "codemirror_mode": {
        "name": "ipython",
        "version": 3
      },
      "file_extension": ".py",
      "mimetype": "text/x-python",
      "name": "python",
      "nbconvert_exporter": "python",
      "pygments_lexer": "ipython3",
      "version": "3.10.9"
    },
    "colab": {
      "provenance": []
    }
  },
  "nbformat": 4,
  "nbformat_minor": 0
}