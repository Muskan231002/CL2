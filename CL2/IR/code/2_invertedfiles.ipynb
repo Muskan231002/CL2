{
  "cells": [
    {
      "cell_type": "code",
      "execution_count": 1,
      "metadata": {
        "id": "0dxCGcz6QSW6"
      },
      "outputs": [],
      "source": [
        "import re\n",
        "from collections import defaultdict"
      ]
    },
    {
      "cell_type": "code",
      "execution_count": 2,
      "metadata": {
        "id": "6fjRCfIUQSW8"
      },
      "outputs": [],
      "source": [
        "documents = {\n",
        "1: \"This is the first document. It contains some text.\",\n",
        "2: \"The second document is longer. It also contains some text.\",\n",
        "3: \"This is the third document. It is different from the first two.\",\n",
        "}"
      ]
    },
    {
      "cell_type": "code",
      "execution_count": 3,
      "metadata": {
        "id": "w0OMWQWEQSW9"
      },
      "outputs": [],
      "source": [
        "def preprocess_document(doc):\n",
        "    # Convert to lowercase and tokenize\n",
        "    tokens = re.findall(r'\\w+', doc.lower())\n",
        "    # Remove stop words (you can define your own list of stop words)\n",
        "    stop_words = set([\"is\", \"the\", \"it\", \"and\", \"some\"])\n",
        "    tokens = [token for token in tokens if token not in stop_words]\n",
        "    return tokens"
      ]
    },
    {
      "cell_type": "code",
      "execution_count": 4,
      "metadata": {
        "id": "FD7tTAygQSW9"
      },
      "outputs": [],
      "source": [
        "inverted_index = defaultdict(list)\n",
        "for doc_id, doc_text in documents.items():\n",
        "    tokens = preprocess_document(doc_text)\n",
        "for token in tokens:\n",
        "    inverted_index[token].append(doc_id)"
      ]
    },
    {
      "cell_type": "code",
      "execution_count": 5,
      "metadata": {
        "id": "UrtWFnI6QSW-"
      },
      "outputs": [],
      "source": [
        "def retrieve_documents(query):\n",
        "    query_tokens = preprocess_document(query)\n",
        "    result = set()\n",
        "    for token in query_tokens:\n",
        "        if token in inverted_index:\n",
        "            result.update(inverted_index[token])\n",
        "    return list(result)"
      ]
    },
    {
      "cell_type": "code",
      "execution_count": 6,
      "metadata": {
        "id": "p2VaBE9iQSW_"
      },
      "outputs": [],
      "source": [
        "query = \"document contains text\"\n",
        "matching_documents = retrieve_documents(query)"
      ]
    },
    {
      "cell_type": "code",
      "execution_count": 7,
      "metadata": {
        "colab": {
          "base_uri": "https://localhost:8080/"
        },
        "id": "12ZatCfgQSW_",
        "outputId": "b098db27-9489-4aa8-e1ba-260cc5d1c5e3"
      },
      "outputs": [
        {
          "output_type": "stream",
          "name": "stdout",
          "text": [
            "Matching documents for query 'document contains text':\n",
            "Document 3: This is the third document. It is different from the first two.\n"
          ]
        }
      ],
      "source": [
        "if matching_documents:\n",
        "    print(f\"Matching documents for query '{query}':\")\n",
        "    for doc_id in matching_documents:\n",
        "        print(f\"Document {doc_id}: {documents[doc_id]}\")\n",
        "else:\n",
        "    print(\"No matching documents found.\")"
      ]
    },
    {
      "cell_type": "code",
      "execution_count": 7,
      "metadata": {
        "id": "ayLNA39XQSXC"
      },
      "outputs": [],
      "source": []
    }
  ],
  "metadata": {
    "kernelspec": {
      "display_name": "Python 3",
      "language": "python",
      "name": "python3"
    },
    "language_info": {
      "codemirror_mode": {
        "name": "ipython",
        "version": 3
      },
      "file_extension": ".py",
      "mimetype": "text/x-python",
      "name": "python",
      "nbconvert_exporter": "python",
      "pygments_lexer": "ipython3",
      "version": "3.11.5"
    },
    "colab": {
      "provenance": []
    }
  },
  "nbformat": 4,
  "nbformat_minor": 0
}