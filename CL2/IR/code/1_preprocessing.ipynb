{
  "cells": [
    {
      "cell_type": "code",
      "execution_count": 14,
      "metadata": {
        "colab": {
          "base_uri": "https://localhost:8080/"
        },
        "id": "uHoTu52Ue0Bv",
        "outputId": "d8fa9895-2283-4ffb-aa02-2c386d3f96c1"
      },
      "outputs": [
        {
          "output_type": "stream",
          "name": "stderr",
          "text": [
            "[nltk_data] Downloading package punkt_tab to /root/nltk_data...\n",
            "[nltk_data]   Package punkt_tab is already up-to-date!\n",
            "[nltk_data] Downloading package wordnet to /root/nltk_data...\n"
          ]
        }
      ],
      "source": [
        "import nltk\n",
        "nltk.download('punkt_tab')\n",
        "nltk.download('wordnet')\n",
        "from nltk.corpus import stopwords\n",
        "from nltk.tokenize import word_tokenize\n",
        "from nltk.stem import PorterStemmer,WordNetLemmatizer"
      ]
    },
    {
      "cell_type": "code",
      "execution_count": 15,
      "metadata": {
        "colab": {
          "base_uri": "https://localhost:8080/"
        },
        "id": "udV-qB6We0By",
        "outputId": "d22540c6-65bc-40f5-ea2d-ea172666823a"
      },
      "outputs": [
        {
          "output_type": "stream",
          "name": "stderr",
          "text": [
            "[nltk_data] Downloading package stopwords to /root/nltk_data...\n",
            "[nltk_data]   Package stopwords is already up-to-date!\n",
            "[nltk_data] Downloading package punkt to /root/nltk_data...\n",
            "[nltk_data]   Package punkt is already up-to-date!\n"
          ]
        },
        {
          "output_type": "execute_result",
          "data": {
            "text/plain": [
              "True"
            ]
          },
          "metadata": {},
          "execution_count": 15
        }
      ],
      "source": [
        "nltk.download('stopwords')\n",
        "nltk.download('punkt')"
      ]
    },
    {
      "cell_type": "code",
      "execution_count": 16,
      "metadata": {
        "id": "S1TR51dSe0Bz"
      },
      "outputs": [],
      "source": [
        "text_document = \"Text preprocessing is an essential step in natural language processing\""
      ]
    },
    {
      "cell_type": "code",
      "execution_count": 17,
      "metadata": {
        "colab": {
          "base_uri": "https://localhost:8080/"
        },
        "id": "eQm5yzGXe0Bz",
        "outputId": "f92fa376-b67b-4262-d36e-9507ed6d07c8"
      },
      "outputs": [
        {
          "output_type": "execute_result",
          "data": {
            "text/plain": [
              "['Text',\n",
              " 'preprocessing',\n",
              " 'is',\n",
              " 'an',\n",
              " 'essential',\n",
              " 'step',\n",
              " 'in',\n",
              " 'natural',\n",
              " 'language',\n",
              " 'processing']"
            ]
          },
          "metadata": {},
          "execution_count": 17
        }
      ],
      "source": [
        "words = word_tokenize(text_document)\n",
        "words"
      ]
    },
    {
      "cell_type": "code",
      "execution_count": 18,
      "metadata": {
        "colab": {
          "base_uri": "https://localhost:8080/"
        },
        "id": "QwDFMz5Ce0Bz",
        "outputId": "995995e2-7c1d-4307-d9f1-195df069cb11"
      },
      "outputs": [
        {
          "output_type": "execute_result",
          "data": {
            "text/plain": [
              "['Text',\n",
              " 'preprocessing',\n",
              " 'essential',\n",
              " 'step',\n",
              " 'natural',\n",
              " 'language',\n",
              " 'processing']"
            ]
          },
          "metadata": {},
          "execution_count": 18
        }
      ],
      "source": [
        "stop_words = set(stopwords.words('english'))\n",
        "filtered_words = [word for word in words if word.lower() not in stop_words]\n",
        "filtered_words"
      ]
    },
    {
      "cell_type": "code",
      "execution_count": 19,
      "metadata": {
        "id": "wHjC4pF2e0Bz"
      },
      "outputs": [],
      "source": [
        "stemmer = PorterStemmer()"
      ]
    },
    {
      "cell_type": "code",
      "execution_count": 20,
      "metadata": {
        "colab": {
          "base_uri": "https://localhost:8080/"
        },
        "id": "7ekvPuHme0B0",
        "outputId": "7e2e9f6e-a1f0-4e5d-9589-37918b255d46"
      },
      "outputs": [
        {
          "output_type": "execute_result",
          "data": {
            "text/plain": [
              "['text', 'preprocess', 'essenti', 'step', 'natur', 'languag', 'process']"
            ]
          },
          "metadata": {},
          "execution_count": 20
        }
      ],
      "source": [
        "stemmed_words = [stemmer.stem(word) for word in filtered_words]\n",
        "stemmed_words"
      ]
    },
    {
      "cell_type": "code",
      "execution_count": 21,
      "metadata": {
        "id": "I_3Wgs4pe0B0"
      },
      "outputs": [],
      "source": [
        "lemmatizer = WordNetLemmatizer()"
      ]
    },
    {
      "cell_type": "code",
      "execution_count": 22,
      "metadata": {
        "colab": {
          "base_uri": "https://localhost:8080/"
        },
        "id": "k3d0kp-ee0B0",
        "outputId": "d5214b2b-f7ba-4fd2-83fd-f69db49acbf9"
      },
      "outputs": [
        {
          "output_type": "execute_result",
          "data": {
            "text/plain": [
              "['Text',\n",
              " 'preprocessing',\n",
              " 'essential',\n",
              " 'step',\n",
              " 'natural',\n",
              " 'language',\n",
              " 'processing']"
            ]
          },
          "metadata": {},
          "execution_count": 22
        }
      ],
      "source": [
        "lemmatized_words = [lemmatizer.lemmatize(word) for word in filtered_words]\n",
        "lemmatized_words"
      ]
    },
    {
      "cell_type": "code",
      "execution_count": 22,
      "metadata": {
        "id": "1C4CmIhHe0B0"
      },
      "outputs": [],
      "source": []
    },
    {
      "cell_type": "code",
      "execution_count": 22,
      "metadata": {
        "id": "CgVWPiI4e0B1"
      },
      "outputs": [],
      "source": []
    }
  ],
  "metadata": {
    "kernelspec": {
      "display_name": "Python 3",
      "language": "python",
      "name": "python3"
    },
    "language_info": {
      "codemirror_mode": {
        "name": "ipython",
        "version": 3
      },
      "file_extension": ".py",
      "mimetype": "text/x-python",
      "name": "python",
      "nbconvert_exporter": "python",
      "pygments_lexer": "ipython3",
      "version": "3.11.5"
    },
    "colab": {
      "provenance": []
    }
  },
  "nbformat": 4,
  "nbformat_minor": 0
}